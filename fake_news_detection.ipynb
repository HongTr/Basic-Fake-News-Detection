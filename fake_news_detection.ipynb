{
 "cells": [
  {
   "cell_type": "markdown",
   "metadata": {
    "id": "VHlqlxdwPvCt"
   },
   "source": [
    "**1. Define Problem: Detect fake news based on title and content**\n",
    "\n",
    "FEATURES \n",
    "- Title: Title of the news\n",
    "- Text: Brief content of the news\n",
    "- Labels: FAKE or REAL"
   ]
  },
  {
   "cell_type": "markdown",
   "metadata": {
    "id": "2aZDyQ8SRHtf"
   },
   "source": [
    "**2. Import Library**"
   ]
  },
  {
   "cell_type": "code",
   "execution_count": null,
   "metadata": {
    "id": "Bkf0rH15TBTW"
   },
   "outputs": [],
   "source": [
    "import numpy as np\n",
    "import pandas as pd\n",
    "from sklearn.model_selection import train_test_split\n",
    "from sklearn.feature_extraction.text import TfidfVectorizer\n",
    "from sklearn.feature_extraction.text import CountVectorizer\n",
    "from sklearn.linear_model import PassiveAggressiveClassifier\n",
    "from sklearn.metrics import accuracy_score, confusion_matrix\n",
    "from sklearn.metrics import f1_score\n",
    "from sklearn.metrics import recall_score\n",
    "from sklearn.metrics import precision_score\n",
    "from sklearn.metrics import classification_report\n",
    "from sklearn.tree import DecisionTreeClassifier\n",
    "from sklearn.ensemble import RandomForestClassifier"
   ]
  },
  {
   "cell_type": "markdown",
   "metadata": {
    "id": "9z--j55oQy89"
   },
   "source": [
    "**Load Data Set**"
   ]
  },
  {
   "cell_type": "code",
   "execution_count": null,
   "metadata": {
    "colab": {
     "base_uri": "https://localhost:8080/",
     "height": 319
    },
    "executionInfo": {
     "elapsed": 1581,
     "status": "ok",
     "timestamp": 1605434048511,
     "user": {
      "displayName": "Hồng Trương Minh",
      "photoUrl": "",
      "userId": "11412969009276086269"
     },
     "user_tz": -420
    },
    "id": "qoFFLvxCURa8",
    "outputId": "0bc40fa9-cfcd-4d78-845b-24a6aa740256"
   },
   "outputs": [
    {
     "name": "stdout",
     "output_type": "stream",
     "text": [
      "data shape: (6335, 3)\n",
      "title    0\n",
      "text     0\n",
      "label    0\n",
      "dtype: int64\n"
     ]
    },
    {
     "data": {
      "text/html": [
       "<div>\n",
       "<style scoped>\n",
       "    .dataframe tbody tr th:only-of-type {\n",
       "        vertical-align: middle;\n",
       "    }\n",
       "\n",
       "    .dataframe tbody tr th {\n",
       "        vertical-align: top;\n",
       "    }\n",
       "\n",
       "    .dataframe thead th {\n",
       "        text-align: right;\n",
       "    }\n",
       "</style>\n",
       "<table border=\"1\" class=\"dataframe\">\n",
       "  <thead>\n",
       "    <tr style=\"text-align: right;\">\n",
       "      <th></th>\n",
       "      <th>title</th>\n",
       "      <th>text</th>\n",
       "      <th>label</th>\n",
       "    </tr>\n",
       "  </thead>\n",
       "  <tbody>\n",
       "    <tr>\n",
       "      <th>0</th>\n",
       "      <td>You Can Smell Hillary’s Fear</td>\n",
       "      <td>Daniel Greenfield, a Shillman Journalism Fello...</td>\n",
       "      <td>FAKE</td>\n",
       "    </tr>\n",
       "    <tr>\n",
       "      <th>1</th>\n",
       "      <td>Watch The Exact Moment Paul Ryan Committed Pol...</td>\n",
       "      <td>Google Pinterest Digg Linkedin Reddit Stumbleu...</td>\n",
       "      <td>FAKE</td>\n",
       "    </tr>\n",
       "    <tr>\n",
       "      <th>2</th>\n",
       "      <td>Kerry to go to Paris in gesture of sympathy</td>\n",
       "      <td>U.S. Secretary of State John F. Kerry said Mon...</td>\n",
       "      <td>REAL</td>\n",
       "    </tr>\n",
       "    <tr>\n",
       "      <th>3</th>\n",
       "      <td>Bernie supporters on Twitter erupt in anger ag...</td>\n",
       "      <td>— Kaydee King (@KaydeeKing) November 9, 2016 T...</td>\n",
       "      <td>FAKE</td>\n",
       "    </tr>\n",
       "    <tr>\n",
       "      <th>4</th>\n",
       "      <td>The Battle of New York: Why This Primary Matters</td>\n",
       "      <td>It's primary day in New York and front-runners...</td>\n",
       "      <td>REAL</td>\n",
       "    </tr>\n",
       "    <tr>\n",
       "      <th>5</th>\n",
       "      <td>Tehran, USA</td>\n",
       "      <td>\\nI’m not an immigrant, but my grandparents ...</td>\n",
       "      <td>FAKE</td>\n",
       "    </tr>\n",
       "  </tbody>\n",
       "</table>\n",
       "</div>"
      ],
      "text/plain": [
       "                                               title  ... label\n",
       "0                       You Can Smell Hillary’s Fear  ...  FAKE\n",
       "1  Watch The Exact Moment Paul Ryan Committed Pol...  ...  FAKE\n",
       "2        Kerry to go to Paris in gesture of sympathy  ...  REAL\n",
       "3  Bernie supporters on Twitter erupt in anger ag...  ...  FAKE\n",
       "4   The Battle of New York: Why This Primary Matters  ...  REAL\n",
       "5                                        Tehran, USA  ...  FAKE\n",
       "\n",
       "[6 rows x 3 columns]"
      ]
     },
     "execution_count": 6,
     "metadata": {
      "tags": []
     },
     "output_type": "execute_result"
    }
   ],
   "source": [
    "data = pd.read_csv(\"news.csv\")\n",
    "data = data.drop(['Unnamed: 0'], axis=1)\n",
    "labels = data.label\n",
    "print(\"data shape: {}\".format(data.shape))\n",
    "print(data.isna().sum())\n",
    "data.head(6)"
   ]
  },
  {
   "cell_type": "code",
   "execution_count": null,
   "metadata": {
    "colab": {
     "base_uri": "https://localhost:8080/"
    },
    "executionInfo": {
     "elapsed": 1470,
     "status": "ok",
     "timestamp": 1605431883943,
     "user": {
      "displayName": "Hồng Trương Minh",
      "photoUrl": "",
      "userId": "11412969009276086269"
     },
     "user_tz": -420
    },
    "id": "KuwB5WLncCa5",
    "outputId": "436a547e-5ec5-40cb-fa25-e9b84de1b132"
   },
   "outputs": [
    {
     "data": {
      "text/plain": [
       "REAL    3171\n",
       "FAKE    3164\n",
       "Name: label, dtype: int64"
      ]
     },
     "execution_count": 5,
     "metadata": {
      "tags": []
     },
     "output_type": "execute_result"
    }
   ],
   "source": [
    "data[\"label\"].value_counts()"
   ]
  },
  {
   "cell_type": "markdown",
   "metadata": {
    "id": "7WfIg4aWRs2x"
   },
   "source": [
    "**3. Divide Dataset**"
   ]
  },
  {
   "cell_type": "code",
   "execution_count": null,
   "metadata": {
    "id": "tqmeH3Z4NA_6"
   },
   "outputs": [],
   "source": [
    "tf = TfidfVectorizer()"
   ]
  },
  {
   "cell_type": "code",
   "execution_count": null,
   "metadata": {
    "id": "71tPPj7LMrLy"
   },
   "outputs": [],
   "source": [
    "title = data.iloc[:,0].values\n",
    "text = data.iloc[:,1].values\n",
    "news_title = tf.fit_transform(title).todense()\n",
    "news_text = tf.fit_transform(text).todense()\n",
    "news = np.hstack((news_title,news_text))"
   ]
  },
  {
   "cell_type": "code",
   "execution_count": null,
   "metadata": {
    "colab": {
     "base_uri": "https://localhost:8080/"
    },
    "executionInfo": {
     "elapsed": 797,
     "status": "ok",
     "timestamp": 1605434793593,
     "user": {
      "displayName": "Hồng Trương Minh",
      "photoUrl": "",
      "userId": "11412969009276086269"
     },
     "user_tz": -420
    },
    "id": "n3Qv08j3Xqw4",
    "outputId": "17789561-b32b-41c3-ebbd-e1b1c5187d6f"
   },
   "outputs": [
    {
     "data": {
      "text/plain": [
       "(6335, 77730)"
      ]
     },
     "execution_count": 14,
     "metadata": {
      "tags": []
     },
     "output_type": "execute_result"
    }
   ],
   "source": [
    "news.shape"
   ]
  },
  {
   "cell_type": "code",
   "execution_count": null,
   "metadata": {
    "id": "hlga_EEZuwGY"
   },
   "outputs": [],
   "source": [
    "x_train,x_val,y_train,y_val = train_test_split(news, labels, test_size=0.2, random_state=7)"
   ]
  },
  {
   "cell_type": "markdown",
   "metadata": {
    "id": "5CrR4fjyRxdj"
   },
   "source": [
    "**4. Using TfidfVectorizer to deal with data**"
   ]
  },
  {
   "cell_type": "code",
   "execution_count": null,
   "metadata": {
    "id": "iI8oPlv0N9RE"
   },
   "outputs": [],
   "source": [
    "pac = PassiveAggressiveClassifier()\n",
    "pac.fit(x_train,y_train)"
   ]
  },
  {
   "cell_type": "code",
   "execution_count": null,
   "metadata": {
    "colab": {
     "base_uri": "https://localhost:8080/"
    },
    "executionInfo": {
     "elapsed": 744,
     "status": "ok",
     "timestamp": 1605432327434,
     "user": {
      "displayName": "Hồng Trương Minh",
      "photoUrl": "",
      "userId": "11412969009276086269"
     },
     "user_tz": -420
    },
    "id": "qk-ipZuEOKpy",
    "outputId": "36f0f646-c932-4f60-d3ec-e9d32391d369"
   },
   "outputs": [
    {
     "data": {
      "text/plain": [
       "0.9297553275453828"
      ]
     },
     "execution_count": 12,
     "metadata": {
      "tags": []
     },
     "output_type": "execute_result"
    }
   ],
   "source": [
    "y_pred = pac.predict(x_val)\n",
    "accuracy_score(y_val,y_pred)"
   ]
  },
  {
   "cell_type": "code",
   "execution_count": null,
   "metadata": {
    "colab": {
     "base_uri": "https://localhost:8080/"
    },
    "executionInfo": {
     "elapsed": 866,
     "status": "ok",
     "timestamp": 1605432375247,
     "user": {
      "displayName": "Hồng Trương Minh",
      "photoUrl": "",
      "userId": "11412969009276086269"
     },
     "user_tz": -420
    },
    "id": "W7wUzlnRgybn",
    "outputId": "9d04761d-a5f3-4a89-bb5e-ba46affdb16f"
   },
   "outputs": [
    {
     "name": "stdout",
     "output_type": "stream",
     "text": [
      "accuracy  0.9297553275453828\n",
      "precision  0.9298350136208098\n",
      "recall  0.9297553275453828\n",
      "f1 0.9297482372742942\n",
      "              precision    recall  f1-score   support\n",
      "\n",
      "        FAKE       0.92      0.94      0.93       638\n",
      "        REAL       0.94      0.92      0.93       629\n",
      "\n",
      "    accuracy                           0.93      1267\n",
      "   macro avg       0.93      0.93      0.93      1267\n",
      "weighted avg       0.93      0.93      0.93      1267\n",
      "\n"
     ]
    },
    {
     "data": {
      "text/plain": [
       "array([[598,  40],\n",
       "       [ 49, 580]])"
      ]
     },
     "execution_count": 13,
     "metadata": {
      "tags": []
     },
     "output_type": "execute_result"
    }
   ],
   "source": [
    "print('accuracy ',accuracy_score(y_val,y_pred))\n",
    "print('precision ', precision_score(y_val,y_pred,average= 'weighted'))\n",
    "print('recall ', recall_score(y_val,y_pred,average= 'weighted'))\n",
    "print(\"f1\", f1_score(y_val,y_pred, average= 'weighted'))\n",
    "print(classification_report(y_val, y_pred, target_names = [\"FAKE\",\"REAL\"]))\n",
    "confusion_matrix(y_val,y_pred, labels=['FAKE','REAL'])"
   ]
  },
  {
   "cell_type": "code",
   "execution_count": null,
   "metadata": {
    "id": "Zx9TZ0L_xUHm"
   },
   "outputs": [],
   "source": [
    "dtc = DecisionTreeClassifier()\n",
    "dtc.fit(x_train, y_train)\n",
    "y_predict = dtc.predict(x_val)\n",
    "\n",
    "print('accuracy {}% '.format(round(accuracy_score(y_val,y_predict) * 100,2)))"
   ]
  },
  {
   "cell_type": "code",
   "execution_count": null,
   "metadata": {
    "colab": {
     "base_uri": "https://localhost:8080/"
    },
    "executionInfo": {
     "elapsed": 8545,
     "status": "ok",
     "timestamp": 1605409744567,
     "user": {
      "displayName": "Hồng Trương Minh",
      "photoUrl": "",
      "userId": "11412969009276086269"
     },
     "user_tz": -420
    },
    "id": "gpTsgGpezgrF",
    "outputId": "90dae3db-dec2-4b1a-9e38-3cab28cbb488"
   },
   "outputs": [
    {
     "name": "stdout",
     "output_type": "stream",
     "text": [
      "accuracy 89.42% \n"
     ]
    }
   ],
   "source": [
    "rf = RandomForestClassifier()\n",
    "rf.fit(tfidf_train,y_train)\n",
    "y_prediction = rf.predict(tfidf_test)\n",
    "\n",
    "print('accuracy {}% '.format(round(accuracy_score(y_val,y_prediction) * 100,2)))"
   ]
  },
  {
   "cell_type": "markdown",
   "metadata": {
    "id": "4vKAg-RykNPo"
   },
   "source": [
    "**5. Using CountVectorizer to deal with data**\n"
   ]
  },
  {
   "cell_type": "code",
   "execution_count": null,
   "metadata": {
    "id": "TR9FD3WbjBft"
   },
   "outputs": [],
   "source": [
    "X = data.iloc[:,1].values\n",
    "cv = CountVectorizer(max_features = 5000)\n",
    "text_cv = cv.fit_transform(X).todense()"
   ]
  },
  {
   "cell_type": "code",
   "execution_count": null,
   "metadata": {
    "colab": {
     "base_uri": "https://localhost:8080/"
    },
    "executionInfo": {
     "elapsed": 565,
     "status": "ok",
     "timestamp": 1605360206071,
     "user": {
      "displayName": "Hồng Trương Minh",
      "photoUrl": "",
      "userId": "11412969009276086269"
     },
     "user_tz": -420
    },
    "id": "ovOqKAACUyG6",
    "outputId": "a4b18f23-d057-4e62-fa92-b4d276d9536b"
   },
   "outputs": [
    {
     "data": {
      "text/plain": [
       "matrix([[0, 0, 0, ..., 0, 0, 0],\n",
       "        [0, 0, 0, ..., 0, 0, 0],\n",
       "        [0, 0, 0, ..., 0, 0, 0],\n",
       "        ...,\n",
       "        [0, 1, 0, ..., 1, 0, 0],\n",
       "        [0, 1, 1, ..., 0, 0, 0],\n",
       "        [0, 0, 0, ..., 0, 0, 0]])"
      ]
     },
     "execution_count": 14,
     "metadata": {
      "tags": []
     },
     "output_type": "execute_result"
    }
   ],
   "source": [
    "text_cv"
   ]
  },
  {
   "cell_type": "code",
   "execution_count": null,
   "metadata": {
    "id": "CMkZf6GJQ626"
   },
   "outputs": [],
   "source": [
    "X_train,X_val,Y_train,Y_val = train_test_split(text_cv, labels, test_size=0.2, random_state=7)"
   ]
  },
  {
   "cell_type": "code",
   "execution_count": null,
   "metadata": {
    "colab": {
     "base_uri": "https://localhost:8080/"
    },
    "executionInfo": {
     "elapsed": 5314,
     "status": "ok",
     "timestamp": 1605434091135,
     "user": {
      "displayName": "Hồng Trương Minh",
      "photoUrl": "",
      "userId": "11412969009276086269"
     },
     "user_tz": -420
    },
    "id": "tZvvnShMksfk",
    "outputId": "29626240-06f6-4dfc-fa97-2425cd21a4a1"
   },
   "outputs": [
    {
     "name": "stderr",
     "output_type": "stream",
     "text": [
      "/usr/local/lib/python3.6/dist-packages/sklearn/linear_model/_stochastic_gradient.py:557: ConvergenceWarning: Maximum number of iteration reached before convergence. Consider increasing max_iter to improve the fit.\n",
      "  ConvergenceWarning)\n"
     ]
    },
    {
     "data": {
      "text/plain": [
       "PassiveAggressiveClassifier(C=1.0, average=False, class_weight=None,\n",
       "                            early_stopping=False, fit_intercept=True,\n",
       "                            loss='hinge', max_iter=50, n_iter_no_change=5,\n",
       "                            n_jobs=None, random_state=None, shuffle=True,\n",
       "                            tol=0.001, validation_fraction=0.1, verbose=0,\n",
       "                            warm_start=False)"
      ]
     },
     "execution_count": 9,
     "metadata": {
      "tags": []
     },
     "output_type": "execute_result"
    }
   ],
   "source": [
    "pac = PassiveAggressiveClassifier(max_iter=50)\n",
    "pac.fit(X_train,Y_train)"
   ]
  },
  {
   "cell_type": "code",
   "execution_count": null,
   "metadata": {
    "colab": {
     "base_uri": "https://localhost:8080/"
    },
    "executionInfo": {
     "elapsed": 855,
     "status": "ok",
     "timestamp": 1605360217575,
     "user": {
      "displayName": "Hồng Trương Minh",
      "photoUrl": "",
      "userId": "11412969009276086269"
     },
     "user_tz": -420
    },
    "id": "vwgxm9WzlvMt",
    "outputId": "c5d72a4b-e9bc-4b01-8d0a-a5926c767ea0"
   },
   "outputs": [
    {
     "name": "stdout",
     "output_type": "stream",
     "text": [
      "accuracy  0.9068666140489345\n",
      "precision  0.9068685809199039\n",
      "recall  0.9068666140489345\n",
      "f1 0.9068653375878469\n",
      "              precision    recall  f1-score   support\n",
      "\n",
      "        FAKE       0.91      0.91      0.91       638\n",
      "        REAL       0.91      0.90      0.91       629\n",
      "\n",
      "    accuracy                           0.91      1267\n",
      "   macro avg       0.91      0.91      0.91      1267\n",
      "weighted avg       0.91      0.91      0.91      1267\n",
      "\n"
     ]
    },
    {
     "data": {
      "text/plain": [
       "array([[580,  58],\n",
       "       [ 60, 569]])"
      ]
     },
     "execution_count": 17,
     "metadata": {
      "tags": []
     },
     "output_type": "execute_result"
    }
   ],
   "source": [
    "Y_pred = pac.predict(X_val)\n",
    "print('accuracy ',accuracy_score(Y_val,Y_pred))\n",
    "print('precision ', precision_score(Y_val,Y_pred,average= 'weighted'))\n",
    "print('recall ', recall_score(Y_val,Y_pred,average= 'weighted'))\n",
    "print(\"f1\", f1_score(Y_val,Y_pred, average= 'weighted'))\n",
    "print(classification_report(Y_val, Y_pred, target_names = [\"FAKE\",\"REAL\"]))\n",
    "confusion_matrix(Y_val,Y_pred, labels=['FAKE','REAL'])"
   ]
  },
  {
   "cell_type": "code",
   "execution_count": null,
   "metadata": {
    "colab": {
     "base_uri": "https://localhost:8080/"
    },
    "executionInfo": {
     "elapsed": 7493,
     "status": "ok",
     "timestamp": 1605189750685,
     "user": {
      "displayName": "Hồng Trương Minh",
      "photoUrl": "",
      "userId": "11412969009276086269"
     },
     "user_tz": -420
    },
    "id": "tpIcHjpzwWbQ",
    "outputId": "c44bf6f1-3596-4aae-f9ca-7324bc682715"
   },
   "outputs": [
    {
     "name": "stdout",
     "output_type": "stream",
     "text": [
      "accuracy  0.8097868981846882\n",
      "precision  0.8101723642368537\n",
      "recall  0.8097868981846882\n",
      "f1 0.8097570356478723\n",
      "              precision    recall  f1-score   support\n",
      "\n",
      "        FAKE       0.82      0.79      0.81       638\n",
      "        REAL       0.80      0.83      0.81       629\n",
      "\n",
      "    accuracy                           0.81      1267\n",
      "   macro avg       0.81      0.81      0.81      1267\n",
      "weighted avg       0.81      0.81      0.81      1267\n",
      "\n"
     ]
    },
    {
     "data": {
      "text/plain": [
       "array([[507, 131],\n",
       "       [110, 519]])"
      ]
     },
     "execution_count": 26,
     "metadata": {
      "tags": []
     },
     "output_type": "execute_result"
    }
   ],
   "source": [
    "dtc = DecisionTreeClassifier()\n",
    "dtc.fit(X_train, Y_train)\n",
    "Y_predict = dtc.predict(X_val)\n",
    "\n",
    "print('accuracy ',accuracy_score(y_val,Y_predict))\n",
    "print('precision ', precision_score(y_val,Y_predict,average= 'weighted'))\n",
    "print('recall ', recall_score(y_val,Y_predict,average= 'weighted'))\n",
    "print(\"f1\", f1_score(y_val,Y_predict, average= 'weighted'))\n",
    "print(classification_report(y_val, Y_predict, target_names = [\"FAKE\",\"REAL\"]))\n",
    "confusion_matrix(y_val,Y_predict, labels=['FAKE','REAL'])"
   ]
  },
  {
   "cell_type": "code",
   "execution_count": null,
   "metadata": {
    "colab": {
     "base_uri": "https://localhost:8080/"
    },
    "executionInfo": {
     "elapsed": 7112,
     "status": "ok",
     "timestamp": 1605360230179,
     "user": {
      "displayName": "Hồng Trương Minh",
      "photoUrl": "",
      "userId": "11412969009276086269"
     },
     "user_tz": -420
    },
    "id": "Y-NgrFVVxpsl",
    "outputId": "e4542d8b-4ac5-47a6-ff4f-b50ef8bd68a0"
   },
   "outputs": [
    {
     "name": "stdout",
     "output_type": "stream",
     "text": [
      "accuracy 80.98% \n"
     ]
    }
   ],
   "source": [
    "dtc = DecisionTreeClassifier()\n",
    "dtc.fit(X_train, Y_train)\n",
    "Y_predict = dtc.predict(X_val)\n",
    "\n",
    "print('accuracy {}% '.format(round(accuracy_score(Y_val,Y_predict) * 100,2)))"
   ]
  },
  {
   "cell_type": "code",
   "execution_count": null,
   "metadata": {
    "colab": {
     "base_uri": "https://localhost:8080/"
    },
    "executionInfo": {
     "elapsed": 6342,
     "status": "ok",
     "timestamp": 1605360239072,
     "user": {
      "displayName": "Hồng Trương Minh",
      "photoUrl": "",
      "userId": "11412969009276086269"
     },
     "user_tz": -420
    },
    "id": "0UmbIEkl1nyy",
    "outputId": "5bbb82c0-4d44-410a-94f9-b4bde582e3c3"
   },
   "outputs": [
    {
     "name": "stdout",
     "output_type": "stream",
     "text": [
      "accuracy 90.06% \n"
     ]
    }
   ],
   "source": [
    "rf = RandomForestClassifier()\n",
    "rf.fit(X_train, Y_train)\n",
    "Y_prediction = rf.predict(X_val)\n",
    "\n",
    "print('accuracy {}% '.format(round(accuracy_score(Y_val,Y_prediction) * 100,2)))"
   ]
  }
 ],
 "metadata": {
  "colab": {
   "authorship_tag": "ABX9TyNs0DhY2VsWY42khO2KKf6b",
   "collapsed_sections": [],
   "name": "Project cuối khóa.ipynb",
   "provenance": []
  },
  "kernelspec": {
   "display_name": "Python 3 (ipykernel)",
   "language": "python",
   "name": "python3"
  },
  "language_info": {
   "codemirror_mode": {
    "name": "ipython",
    "version": 3
   },
   "file_extension": ".py",
   "mimetype": "text/x-python",
   "name": "python",
   "nbconvert_exporter": "python",
   "pygments_lexer": "ipython3",
   "version": "3.9.7"
  }
 },
 "nbformat": 4,
 "nbformat_minor": 1
}
